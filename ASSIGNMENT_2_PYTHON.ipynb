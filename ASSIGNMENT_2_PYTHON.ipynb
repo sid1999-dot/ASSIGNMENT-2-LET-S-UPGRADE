{
  "nbformat": 4,
  "nbformat_minor": 0,
  "metadata": {
    "colab": {
      "name": "ASSIGNMENT 2 PYTHON.ipynb",
      "provenance": []
    },
    "kernelspec": {
      "name": "python3",
      "display_name": "Python 3"
    }
  },
  "cells": [
    {
      "cell_type": "code",
      "metadata": {
        "colab": {
          "base_uri": "https://localhost:8080/"
        },
        "id": "BjWYU_TsuC36",
        "outputId": "2fd644bd-c073-4bc4-c92d-ae01da210898"
      },
      "source": [
        "a=float(input(\"enter the altitude(ft.)\"))\r\n",
        "if a<1000:\r\n",
        "  print(\"land the plane\")\r\n",
        "if a<5000 and a>1000:\r\n",
        "  print(\"come to 1000ft.\")  \r\n",
        "if a>5000:\r\n",
        "  print(\"go around and try\")  "
      ],
      "execution_count": 9,
      "outputs": [
        {
          "output_type": "stream",
          "text": [
            "enter the altitude(ft.)456\n",
            "land the plane\n"
          ],
          "name": "stdout"
        }
      ]
    }
  ]
}